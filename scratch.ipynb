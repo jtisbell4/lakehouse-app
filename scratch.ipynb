{
 "cells": [
  {
   "cell_type": "code",
   "execution_count": 128,
   "metadata": {},
   "outputs": [],
   "source": [
    "from operator import itemgetter\n",
    "from typing import List\n",
    "from chain import model, vector_search_as_retriever\n",
    "from langchain_core.documents import Document\n",
    "from langchain_core.output_parsers import StrOutputParser, JsonOutputParser\n",
    "from langchain_core.runnables import (\n",
    "    RunnableLambda,\n",
    "    RunnableParallel,\n",
    "    RunnablePassthrough,\n",
    ")\n",
    "\n",
    "from langchain_community.retrievers import WikipediaRetriever\n",
    "from langchain_openai import ChatOpenAI\n",
    "from langchain_core.prompts import ChatPromptTemplate, MessagesPlaceholder\n",
    "\n",
    "# wiki = WikipediaRetriever(top_k_results=6, doc_content_chars_max=2000)\n",
    "# wiki = vector_search_as_retriever\n",
    "wiki = RunnableParallel(\n",
    "    {\n",
    "        \"docs\": itemgetter(\"input\")\n",
    "        # | RunnableLambda(retrieve_preprocess)\n",
    "        | vector_search_as_retriever,\n",
    "        \"question\": RunnablePassthrough(),\n",
    "        \"history\": itemgetter(\"history\")\n",
    "    }\n",
    ")\n",
    "\n",
    "def format_docs(docs: List[Document]) -> str:\n",
    "    \"\"\"Convert Documents to a single string.:\"\"\"\n",
    "    formatted = [\n",
    "        f\"Doc URL: {doc.metadata['url']}\\nDoc Snippet: {doc.page_content}</context>\"\n",
    "        for doc in docs\n",
    "    ]\n",
    "    return \"\\n\\n\" + \"\\n\\n\".join(formatted)\n",
    "\n",
    "human_template = \"\"\"Answer the question based only on the following context:\n",
    "{context}\n",
    "\n",
    "Question: {question}\n",
    "\"\"\"\n",
    "\n",
    "prompt = ChatPromptTemplate.from_messages(\n",
    "    [\n",
    "        (\n",
    "            \"system\",\n",
    "            \"You are a helpful assistant. Answer all questions to the best of your ability.\",\n",
    "        ),\n",
    "        MessagesPlaceholder(variable_name=\"history\"),\n",
    "        (\"human\", human_template),\n",
    "    ]\n",
    ")\n",
    "\n",
    "format = itemgetter(\"docs\") | RunnableLambda(format_docs)\n",
    "# subchain for generating an answer once we've done retrieval\n",
    "answer = prompt | model | StrOutputParser()\n",
    "\n",
    "def parse_output(output:dict):\n",
    "    return output['answer'] # + format_docs(output['docs'])\n",
    "\n",
    "# complete chain that calls wiki -> formats docs to string -> runs answer subchain -> returns just the answer and retrieved docs.\n",
    "chain = (\n",
    "    # RunnableParallel(question=RunnablePassthrough(), docs=wiki)\n",
    "    wiki\n",
    "    .assign(context=format)\n",
    "    .assign(answer=answer)\n",
    "    .pick([\"answer\", \"context\"]) # | RunnableLambda(parse_output)\n",
    ")"
   ]
  },
  {
   "cell_type": "code",
   "execution_count": 129,
   "metadata": {},
   "outputs": [
    {
     "name": "stdout",
     "output_type": "stream",
     "text": [
      "{'title': 'RunnableParallel<docs,question,history>Input', 'type': 'object', 'properties': {'input': {'title': 'Input'}, 'history': {'title': 'History'}}}\n",
      "{'title': 'RunnableSequenceOutput', 'type': 'object', 'properties': {'context': {'title': 'Context', 'type': 'string'}, 'answer': {'title': 'Answer', 'type': 'string'}}}\n"
     ]
    }
   ],
   "source": [
    "print(chain.input_schema.schema())\n",
    "print(chain.output_schema.schema())"
   ]
  },
  {
   "cell_type": "code",
   "execution_count": 130,
   "metadata": {},
   "outputs": [],
   "source": [
    "from langchain_community.chat_message_histories import ChatMessageHistory\n",
    "from langchain_core.chat_history import BaseChatMessageHistory\n",
    "from langchain_core.runnables.history import RunnableWithMessageHistory\n",
    "\n",
    "store = {}\n",
    "\n",
    "\n",
    "def get_session_history(session_id: str) -> BaseChatMessageHistory:\n",
    "    if session_id not in store:\n",
    "        store[session_id] = ChatMessageHistory()\n",
    "    return store[session_id]\n",
    "\n",
    "\n",
    "with_message_history = RunnableWithMessageHistory(\n",
    "    chain,\n",
    "    get_session_history,\n",
    "    input_messages_key=\"input\",\n",
    "    history_messages_key=\"history\",\n",
    ")"
   ]
  },
  {
   "cell_type": "code",
   "execution_count": 131,
   "metadata": {},
   "outputs": [
    {
     "name": "stderr",
     "output_type": "stream",
     "text": [
      "WARNING:langchain_core.tracers.core:Parent run 862936b2-ced0-45d5-b678-02da02786d89 not found for run 462bc6fe-bc2f-4c1b-8b1e-8632fc244215. Treating as a root run.\n",
      "WARNING:langchain_core.callbacks.manager:Error in RootListenersTracer.on_chain_end callback: KeyError('output')\n"
     ]
    },
    {
     "data": {
      "text/plain": [
       "{'answer': 'Based on the provided context, dlt is the Python module for Delta Live Tables. Delta Live Tables is a managed service for building and deploying reliable data pipelines on the Databricks platform. The dlt module provides Python functions for creating materialized views and streaming tables in Delta Live Tables.',\n",
       " 'context': '\\n\\nArticle Title: https://docs.databricks.com/en/delta-live-tables/python-ref.html\\nArticle Snippet: Import the dlt Python module\\nDelta Live Tables Python functions are defined in the dlt module. Your pipelines implemented with the Python API must import this module:  \\nimport dlt\\n\\nCreate a Delta Live Tables materialized view or streaming table\\n\\nArticle Title: https://docs.databricks.com/en/partners/prep/dbt-cloud.html\\nArticle Snippet: Connect to dbt Cloud \\xa0  \\ndbt (data build tool) is a development environment that enables data analysts and data engineers to transform data by simply writing select statements. dbt handles turning these select statements into tables and views. dbt compiles your code into raw SQL and then runs that code on the specified database in Databricks. dbt supports collaborative coding patterns and best practices such as version control, documentation, and modularity.  \\ndbt does not extract or load data. dbt focuses on the transformation step only, using a “transform after load” architecture. dbt assumes that you already have a copy of your data in your database.  \\nThis article focuses on dbt Cloud. dbt Cloud comes equipped with turnkey support for scheduling jobs, CI/CD, serving documentation, monitoring and alerting, and an integrated development environment (IDE).  \\nA local version of dbt called dbt Core is also available. dbt Core enables you to write dbt code in the text editor or IDE of your choice on your local development machine and then run dbt from the command line. dbt Core includes the dbt Command Line Interface (CLI). The dbt CLI is free to use and open source. For more information, see Connect to dbt Core.  \\nBecause dbt Cloud and dbt Core can use hosted git repositories (for example, on GitHub, GitLab or BitBucket), you can use dbt Cloud to create a dbt project and then make it available to your dbt Cloud and dbt Core users. For more information, see Creating a dbt project and Using an existing project on the dbt website.  \\nFor a general overview of dbt, watch the following YouTube video (26 minutes).  \\nConnect to dbt Cloud using Partner Connect\\n\\nArticle Title: https://docs.databricks.com/en/delta-live-tables/tutorial-python.html\\nArticle Snippet: Import the Delta Live Tables module\\nImport the Delta Live Tables module\\nAll Delta Live Tables Python APIs are implemented in the dlt module. Explicitly import the dlt module at the top of Python notebooks and files.  \\nThe following example shows this import, alongside import statements for pyspark.sql.functions.  \\nimport dlt from pyspark.sql.functions import *\\n\\nExecute arbitrary Python statements\\nExecute arbitrary Python statements\\nYou can define Python variables and functions alongside Delta Live Tables code in notebooks. All Python logic runs as Delta Live Tables resolves the pipeline graph.  \\nThe following code declares a text variable used in a later step to load a JSON data file:  \\njson_path = \"/databricks-datasets/wikipedia-datasets/data-001/clickstream/raw-uncompressed-json/2015_2_clickstream.json\"\\n\\nCreate a table from files in object storage'}"
      ]
     },
     "execution_count": 131,
     "metadata": {},
     "output_type": "execute_result"
    }
   ],
   "source": [
    "await with_message_history.ainvoke(\n",
    "    {\"input\": \"what is dlt\"},\n",
    "    {\"configurable\": {\"session_id\": \"unused\"}},\n",
    ")"
   ]
  },
  {
   "cell_type": "code",
   "execution_count": 142,
   "metadata": {},
   "outputs": [
    {
     "name": "stderr",
     "output_type": "stream",
     "text": [
      "WARNING:langchain_core.tracers.core:Parent run bb4feb5a-3699-472a-b84b-b626db95cd2e not found for run baab7073-4f05-4baf-ac72-dacef0099811. Treating as a root run.\n"
     ]
    },
    {
     "name": "stdout",
     "output_type": "stream",
     "text": [
      "Based on the provided context, \"dlt\" refers to the Python module for Delta Live Tables. Delta Live Tables is a managed service for building and deploying reliable data pipelines on the Databricks platform. It provides features like automatic testing, monitoring, and error handling for data pipelines. The \"dlt\" module contains functions and classes for defining and executing Delta Live Tables pipelines in Python."
     ]
    },
    {
     "name": "stderr",
     "output_type": "stream",
     "text": [
      "WARNING:langchain_core.callbacks.manager:Error in RootListenersTracer.on_chain_end callback: KeyError('output')\n"
     ]
    }
   ],
   "source": [
    "chunks = {'context': None, 'answer': \"\"}\n",
    "async for chunk in with_message_history.astream({\"input\": \"what is dlt\"},\n",
    "    {\"configurable\": {\"session_id\": \"unused\"}}):\n",
    "    if 'context' in chunk.keys():\n",
    "        chunks['context'] = chunk['context']\n",
    "        continue\n",
    "    print(chunk['answer'], end='', flush=True)\n",
    "    chunks['answer'] += chunk['answer']"
   ]
  },
  {
   "cell_type": "code",
   "execution_count": 143,
   "metadata": {},
   "outputs": [
    {
     "data": {
      "text/plain": [
       "{'context': '\\n\\nArticle Title: https://docs.databricks.com/en/delta-live-tables/python-ref.html\\nArticle Snippet: Import the dlt Python module\\nDelta Live Tables Python functions are defined in the dlt module. Your pipelines implemented with the Python API must import this module:  \\nimport dlt\\n\\nCreate a Delta Live Tables materialized view or streaming table\\n\\nArticle Title: https://docs.databricks.com/en/partners/prep/dbt-cloud.html\\nArticle Snippet: Connect to dbt Cloud \\xa0  \\ndbt (data build tool) is a development environment that enables data analysts and data engineers to transform data by simply writing select statements. dbt handles turning these select statements into tables and views. dbt compiles your code into raw SQL and then runs that code on the specified database in Databricks. dbt supports collaborative coding patterns and best practices such as version control, documentation, and modularity.  \\ndbt does not extract or load data. dbt focuses on the transformation step only, using a “transform after load” architecture. dbt assumes that you already have a copy of your data in your database.  \\nThis article focuses on dbt Cloud. dbt Cloud comes equipped with turnkey support for scheduling jobs, CI/CD, serving documentation, monitoring and alerting, and an integrated development environment (IDE).  \\nA local version of dbt called dbt Core is also available. dbt Core enables you to write dbt code in the text editor or IDE of your choice on your local development machine and then run dbt from the command line. dbt Core includes the dbt Command Line Interface (CLI). The dbt CLI is free to use and open source. For more information, see Connect to dbt Core.  \\nBecause dbt Cloud and dbt Core can use hosted git repositories (for example, on GitHub, GitLab or BitBucket), you can use dbt Cloud to create a dbt project and then make it available to your dbt Cloud and dbt Core users. For more information, see Creating a dbt project and Using an existing project on the dbt website.  \\nFor a general overview of dbt, watch the following YouTube video (26 minutes).  \\nConnect to dbt Cloud using Partner Connect\\n\\nArticle Title: https://docs.databricks.com/en/delta-live-tables/tutorial-python.html\\nArticle Snippet: Import the Delta Live Tables module\\nImport the Delta Live Tables module\\nAll Delta Live Tables Python APIs are implemented in the dlt module. Explicitly import the dlt module at the top of Python notebooks and files.  \\nThe following example shows this import, alongside import statements for pyspark.sql.functions.  \\nimport dlt from pyspark.sql.functions import *\\n\\nExecute arbitrary Python statements\\nExecute arbitrary Python statements\\nYou can define Python variables and functions alongside Delta Live Tables code in notebooks. All Python logic runs as Delta Live Tables resolves the pipeline graph.  \\nThe following code declares a text variable used in a later step to load a JSON data file:  \\njson_path = \"/databricks-datasets/wikipedia-datasets/data-001/clickstream/raw-uncompressed-json/2015_2_clickstream.json\"\\n\\nCreate a table from files in object storage',\n",
       " 'answer': 'Based on the provided context, \"dlt\" refers to the Python module for Delta Live Tables. Delta Live Tables is a managed service for building and deploying reliable data pipelines on the Databricks platform. It provides features like automatic testing, monitoring, and error handling for data pipelines. The \"dlt\" module contains functions and classes for defining and executing Delta Live Tables pipelines in Python.'}"
      ]
     },
     "execution_count": 143,
     "metadata": {},
     "output_type": "execute_result"
    }
   ],
   "source": [
    "chunks"
   ]
  },
  {
   "cell_type": "code",
   "execution_count": 99,
   "metadata": {},
   "outputs": [
    {
     "name": "stdout",
     "output_type": "stream",
     "text": [
      "                                     +------------------------+                                       \n",
      "                                     | Parallel<history>Input |                                       \n",
      "                                     +------------------------+                                       \n",
      "                                          ***           ***                                           \n",
      "                                        **                 **                                         \n",
      "                                      **                     **                                       \n",
      "                       +------------------------+        +-------------+                              \n",
      "                       | Lambda(_enter_history) |        | Passthrough |                              \n",
      "                       +------------------------+        +-------------+                              \n",
      "                                          ***           ***                                           \n",
      "                                             **       **                                              \n",
      "                                               **   **                                                \n",
      "                                    +-------------------------+                                       \n",
      "                                    | Parallel<history>Output |                                       \n",
      "                                    +-------------------------+                                       \n",
      "                                                  *                                                   \n",
      "                                                  *                                                   \n",
      "                                                  *                                                   \n",
      "                              +--------------------------------------+                                \n",
      "                              | Parallel<docs,question,history>Input |                                \n",
      "                              +--------------------------------------+                                \n",
      "                              ******               *             ******                               \n",
      "                        ******                     *                   *****                          \n",
      "                     ***                            *                       ******                    \n",
      "+-----------------------------+                     *                             ***                 \n",
      "| Lambda(itemgetter('input')) |                     *                               *                 \n",
      "+-----------------------------+                     *                               *                 \n",
      "                *                                   *                               *                 \n",
      "                *                                   *                               *                 \n",
      "                *                                   *                               *                 \n",
      "    +----------------------+                +-------------+         +-------------------------------+ \n",
      "    | VectorStoreRetriever |                | Passthrough |         | Lambda(itemgetter('history')) | \n",
      "    +----------------------+**              +-------------+         +-------------------------------+ \n",
      "                              ******               *             ******                               \n",
      "                                    ******        *        ******                                     \n",
      "                                          ***     *     ***                                           \n",
      "                              +---------------------------------------+                               \n",
      "                              | Parallel<docs,question,history>Output |                               \n",
      "                              +---------------------------------------+                               \n",
      "                                                  *                                                   \n",
      "                                                  *                                                   \n",
      "                                                  *                                                   \n",
      "                                     +------------------------+                                       \n",
      "                                     | Parallel<context>Input |                                       \n",
      "                                     +------------------------+                                       \n",
      "                                        ***               ***                                         \n",
      "                                     ***                     ***                                      \n",
      "                                   **                           ***                                   \n",
      "                 +----------------------------+                    **                                 \n",
      "                 | Lambda(itemgetter('docs')) |                     *                                 \n",
      "                 +----------------------------+                     *                                 \n",
      "                                *                                   *                                 \n",
      "                                *                                   *                                 \n",
      "                                *                                   *                                 \n",
      "                     +---------------------+                +-------------+                           \n",
      "                     | Lambda(format_docs) |                | Passthrough |                           \n",
      "                     +---------------------+                +-------------+                           \n",
      "                                        ***               ***                                         \n",
      "                                           ***         ***                                            \n",
      "                                              **     **                                               \n",
      "                                    +-------------------------+                                       \n",
      "                                    | Parallel<context>Output |                                       \n",
      "                                    +-------------------------+                                       \n",
      "                                                  *                                                   \n",
      "                                                  *                                                   \n",
      "                                                  *                                                   \n",
      "                                      +-----------------------+                                       \n",
      "                                      | Parallel<answer>Input |                                       \n",
      "                                      +-----------------------+                                       \n",
      "                                         ***             ***                                          \n",
      "                                       **                   ***                                       \n",
      "                                     **                        **                                     \n",
      "                       +--------------------+                    **                                   \n",
      "                       | ChatPromptTemplate |                     *                                   \n",
      "                       +--------------------+                     *                                   \n",
      "                                  *                               *                                   \n",
      "                                  *                               *                                   \n",
      "                                  *                               *                                   \n",
      "                         +----------------+                       *                                   \n",
      "                         | ChatDatabricks |                       *                                   \n",
      "                         +----------------+                       *                                   \n",
      "                                  *                               *                                   \n",
      "                                  *                               *                                   \n",
      "                                  *                               *                                   \n",
      "                         +-----------------+              +-------------+                             \n",
      "                         | StrOutputParser |              | Passthrough |                             \n",
      "                         +-----------------+              +-------------+                             \n",
      "                                         ***             ***                                          \n",
      "                                            **         **                                             \n",
      "                                              **     **                                               \n",
      "                                     +------------------------+                                       \n",
      "                                     | Parallel<answer>Output |                                       \n",
      "                                     +------------------------+                                       \n",
      "                                                  *                                                   \n",
      "                                                  *                                                   \n",
      "                                                  *                                                   \n",
      "                                              +------+                                                \n",
      "                                              | Pick |                                                \n",
      "                                              +------+                                                \n",
      "                                                  *                                                   \n",
      "                                                  *                                                   \n",
      "                                                  *                                                   \n",
      "                                      +----------------------+                                        \n",
      "                                      | Lambda(parse_output) |                                        \n",
      "                                      +----------------------+                                        \n",
      "                                                  *                                                   \n",
      "                                                  *                                                   \n",
      "                                                  *                                                   \n",
      "                                      +---------------------+                                         \n",
      "                                      | parse_output_output |                                         \n",
      "                                      +---------------------+                                         \n"
     ]
    }
   ],
   "source": [
    "with_message_history.get_graph().print_ascii()"
   ]
  },
  {
   "cell_type": "code",
   "execution_count": null,
   "metadata": {},
   "outputs": [],
   "source": []
  }
 ],
 "metadata": {
  "language_info": {
   "name": "python"
  }
 },
 "nbformat": 4,
 "nbformat_minor": 2
}
